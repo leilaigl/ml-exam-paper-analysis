{
 "cells": [
  {
   "cell_type": "code",
   "execution_count": 8,
   "id": "db8ad710-9b86-424d-900c-3c658a4d6be0",
   "metadata": {},
   "outputs": [
    {
     "name": "stdout",
     "output_type": "stream",
     "text": [
      "Defaulting to user installation because normal site-packages is not writeableNote: you may need to restart the kernel to use updated packages.\n",
      "\n",
      "Collecting scikit-multilearn\n",
      "  Using cached scikit_multilearn-0.2.0-py3-none-any.whl.metadata (6.0 kB)\n",
      "Using cached scikit_multilearn-0.2.0-py3-none-any.whl (89 kB)\n",
      "Installing collected packages: scikit-multilearn\n",
      "Successfully installed scikit-multilearn-0.2.0\n"
     ]
    }
   ],
   "source": [
    "pip install scikit-multilearn\n"
   ]
  },
  {
   "cell_type": "code",
   "execution_count": 54,
   "id": "06ff7765-902b-4ba2-8ee1-8f3faef832b1",
   "metadata": {},
   "outputs": [],
   "source": [
    "from skmultilearn.problem_transform import BinaryRelevance\n",
    "from sklearn.datasets import make_multilabel_classification\n",
    "from sklearn.ensemble import RandomForestClassifier\n",
    "from sklearn.naive_bayes import MultinomialNB\n",
    "from sklearn.svm import SVC\n",
    "from scipy.sparse import csr_matrix\n",
    "import numpy as np\n",
    "from scipy.sparse import csr_matrix"
   ]
  },
  {
   "cell_type": "code",
   "execution_count": 68,
   "id": "ff88d26d-a56b-408c-a901-a8ee5c4c6ed4",
   "metadata": {},
   "outputs": [
    {
     "data": {
      "text/plain": [
       "array([[1, 1, 0, 1, 0],\n",
       "       [0, 1, 1, 1, 0],\n",
       "       [0, 1, 0, 0, 0],\n",
       "       ...,\n",
       "       [1, 1, 1, 0, 0],\n",
       "       [1, 0, 0, 1, 0],\n",
       "       [0, 1, 0, 0, 0]])"
      ]
     },
     "execution_count": 68,
     "metadata": {},
     "output_type": "execute_result"
    }
   ],
   "source": [
    "X, y = make_multilabel_classification(n_samples=1000, n_classes=5, n_labels=3, random_state=42)\n",
    "\n",
    "classifier = BinaryRelevance(classifier=RandomForestClassifier(), require_dense=[False,True])\n",
    "\n",
    "classifier.fit(X, y)\n",
    "\n",
    "new_instance = [[1, 2, 3, 4, 5,1,2,3,4,5,1,2,3,4,5,1,2,3,4,5], [6, 7, 8, 9, 10,6,7,8,9,10,6,7,8,9,10,6,7,8,9,10]]\n",
    "predictions = classifier.predict(new_instance)\n",
    "dense_predictions = predictions.toarray()\n",
    "dense_predictions\n",
    "# y"
   ]
  },
  {
   "cell_type": "code",
   "execution_count": 66,
   "id": "c9a02bd1-0b62-4012-97a9-ac3d1828cbd5",
   "metadata": {},
   "outputs": [
    {
     "ename": "TypeError",
     "evalue": "no supported conversion for types: (dtype('<U11'),)",
     "output_type": "error",
     "traceback": [
      "\u001b[1;31m---------------------------------------------------------------------------\u001b[0m",
      "\u001b[1;31mTypeError\u001b[0m                                 Traceback (most recent call last)",
      "File \u001b[1;32m~\\AppData\\Local\\Packages\\PythonSoftwareFoundation.Python.3.12_qbz5n2kfra8p0\\LocalCache\\local-packages\\Python312\\site-packages\\scipy\\sparse\\_base.py:426\u001b[0m, in \u001b[0;36m_spbase.asformat\u001b[1;34m(self, format, copy)\u001b[0m\n\u001b[0;32m    425\u001b[0m \u001b[39mtry\u001b[39;00m:\n\u001b[1;32m--> 426\u001b[0m     \u001b[39mreturn\u001b[39;00m convert_method(copy\u001b[39m=\u001b[39;49mcopy)\n\u001b[0;32m    427\u001b[0m \u001b[39mexcept\u001b[39;00m \u001b[39mTypeError\u001b[39;00m:\n",
      "File \u001b[1;32m~\\AppData\\Local\\Packages\\PythonSoftwareFoundation.Python.3.12_qbz5n2kfra8p0\\LocalCache\\local-packages\\Python312\\site-packages\\scipy\\sparse\\_coo.py:310\u001b[0m, in \u001b[0;36m_coo_base.tocsr\u001b[1;34m(self, copy)\u001b[0m\n\u001b[0;32m    309\u001b[0m indices \u001b[39m=\u001b[39m np\u001b[39m.\u001b[39mempty_like(col, dtype\u001b[39m=\u001b[39midx_dtype)\n\u001b[1;32m--> 310\u001b[0m data \u001b[39m=\u001b[39m np\u001b[39m.\u001b[39mempty_like(\u001b[39mself\u001b[39m\u001b[39m.\u001b[39mdata, dtype\u001b[39m=\u001b[39mupcast(\u001b[39mself\u001b[39;49m\u001b[39m.\u001b[39;49mdtype))\n\u001b[0;32m    312\u001b[0m coo_tocsr(M, N, \u001b[39mself\u001b[39m\u001b[39m.\u001b[39mnnz, row, col, \u001b[39mself\u001b[39m\u001b[39m.\u001b[39mdata,\n\u001b[0;32m    313\u001b[0m           indptr, indices, data)\n",
      "File \u001b[1;32m~\\AppData\\Local\\Packages\\PythonSoftwareFoundation.Python.3.12_qbz5n2kfra8p0\\LocalCache\\local-packages\\Python312\\site-packages\\scipy\\sparse\\_sputils.py:54\u001b[0m, in \u001b[0;36mupcast\u001b[1;34m(*args)\u001b[0m\n\u001b[0;32m     52\u001b[0m         \u001b[39mreturn\u001b[39;00m t\n\u001b[1;32m---> 54\u001b[0m \u001b[39mraise\u001b[39;00m \u001b[39mTypeError\u001b[39;00m(\u001b[39mf\u001b[39m\u001b[39m'\u001b[39m\u001b[39mno supported conversion for types: \u001b[39m\u001b[39m{\u001b[39;00margs\u001b[39m!r}\u001b[39;00m\u001b[39m'\u001b[39m)\n",
      "\u001b[1;31mTypeError\u001b[0m: no supported conversion for types: (dtype('<U11'),)",
      "\nDuring handling of the above exception, another exception occurred:\n",
      "\u001b[1;31mTypeError\u001b[0m                                 Traceback (most recent call last)",
      "Cell \u001b[1;32mIn[66], line 22\u001b[0m\n\u001b[0;32m     18\u001b[0m new_instance_csr \u001b[39m=\u001b[39m csr_matrix(binary_representation)\n\u001b[0;32m     21\u001b[0m classifier \u001b[39m=\u001b[39m BinaryRelevance(classifier\u001b[39m=\u001b[39mRandomForestClassifier(), require_dense\u001b[39m=\u001b[39m[\u001b[39mFalse\u001b[39;00m, \u001b[39mTrue\u001b[39;00m])\n\u001b[1;32m---> 22\u001b[0m classifier\u001b[39m.\u001b[39;49mfit(new_instance, y)\n\u001b[0;32m     24\u001b[0m predictions \u001b[39m=\u001b[39m classifier\u001b[39m.\u001b[39mpredict(new_instance_csr)\n\u001b[0;32m     26\u001b[0m \u001b[39mprint\u001b[39m(predictions\u001b[39m.\u001b[39mtoarray())\n",
      "File \u001b[1;32m~\\AppData\\Local\\Packages\\PythonSoftwareFoundation.Python.3.12_qbz5n2kfra8p0\\LocalCache\\local-packages\\Python312\\site-packages\\skmultilearn\\problem_transform\\br.py:147\u001b[0m, in \u001b[0;36mBinaryRelevance.fit\u001b[1;34m(self, X, y)\u001b[0m\n\u001b[0;32m    128\u001b[0m \u001b[39mdef\u001b[39;00m \u001b[39mfit\u001b[39m(\u001b[39mself\u001b[39m, X, y):\n\u001b[0;32m    129\u001b[0m \u001b[39m    \u001b[39m\u001b[39m\"\"\"Fits classifier to training data\u001b[39;00m\n\u001b[0;32m    130\u001b[0m \n\u001b[0;32m    131\u001b[0m \u001b[39m    Parameters\u001b[39;00m\n\u001b[1;32m   (...)\u001b[0m\n\u001b[0;32m    145\u001b[0m \u001b[39m    .. note :: Input matrices are converted to sparse format internally if a numpy representation is passed\u001b[39;00m\n\u001b[0;32m    146\u001b[0m \u001b[39m    \"\"\"\u001b[39;00m\n\u001b[1;32m--> 147\u001b[0m     X \u001b[39m=\u001b[39m \u001b[39mself\u001b[39;49m\u001b[39m.\u001b[39;49m_ensure_input_format(\n\u001b[0;32m    148\u001b[0m         X, sparse_format\u001b[39m=\u001b[39;49m\u001b[39m'\u001b[39;49m\u001b[39mcsr\u001b[39;49m\u001b[39m'\u001b[39;49m, enforce_sparse\u001b[39m=\u001b[39;49m\u001b[39mTrue\u001b[39;49;00m)\n\u001b[0;32m    149\u001b[0m     y \u001b[39m=\u001b[39m \u001b[39mself\u001b[39m\u001b[39m.\u001b[39m_ensure_output_format(\n\u001b[0;32m    150\u001b[0m         y, sparse_format\u001b[39m=\u001b[39m\u001b[39m'\u001b[39m\u001b[39mcsc\u001b[39m\u001b[39m'\u001b[39m, enforce_sparse\u001b[39m=\u001b[39m\u001b[39mTrue\u001b[39;00m)\n\u001b[0;32m    152\u001b[0m     \u001b[39mself\u001b[39m\u001b[39m.\u001b[39mclassifiers_ \u001b[39m=\u001b[39m []\n",
      "File \u001b[1;32m~\\AppData\\Local\\Packages\\PythonSoftwareFoundation.Python.3.12_qbz5n2kfra8p0\\LocalCache\\local-packages\\Python312\\site-packages\\skmultilearn\\base\\base.py:97\u001b[0m, in \u001b[0;36mMLClassifierBase._ensure_input_format\u001b[1;34m(self, X, sparse_format, enforce_sparse)\u001b[0m\n\u001b[0;32m     95\u001b[0m     \u001b[39mreturn\u001b[39;00m X\n\u001b[0;32m     96\u001b[0m \u001b[39melse\u001b[39;00m:\n\u001b[1;32m---> 97\u001b[0m     \u001b[39mreturn\u001b[39;00m matrix_creation_function_for_format(sparse_format)(X)\n",
      "File \u001b[1;32m~\\AppData\\Local\\Packages\\PythonSoftwareFoundation.Python.3.12_qbz5n2kfra8p0\\LocalCache\\local-packages\\Python312\\site-packages\\scipy\\sparse\\_compressed.py:85\u001b[0m, in \u001b[0;36m_cs_matrix.__init__\u001b[1;34m(self, arg1, shape, dtype, copy)\u001b[0m\n\u001b[0;32m     83\u001b[0m         msg \u001b[39m=\u001b[39m \u001b[39mf\u001b[39m\u001b[39m\"\u001b[39m\u001b[39munrecognized \u001b[39m\u001b[39m{\u001b[39;00m\u001b[39mself\u001b[39m\u001b[39m.\u001b[39mformat\u001b[39m}\u001b[39;00m\u001b[39m_matrix constructor usage\u001b[39m\u001b[39m\"\u001b[39m\n\u001b[0;32m     84\u001b[0m         \u001b[39mraise\u001b[39;00m \u001b[39mValueError\u001b[39;00m(msg) \u001b[39mfrom\u001b[39;00m \u001b[39me\u001b[39;00m\n\u001b[1;32m---> 85\u001b[0m     \u001b[39mself\u001b[39m\u001b[39m.\u001b[39m_set_self(\u001b[39mself\u001b[39;49m\u001b[39m.\u001b[39;49m\u001b[39m__class__\u001b[39;49m(\n\u001b[0;32m     86\u001b[0m         \u001b[39mself\u001b[39;49m\u001b[39m.\u001b[39;49m_coo_container(arg1, dtype\u001b[39m=\u001b[39;49mdtype)\n\u001b[0;32m     87\u001b[0m     ))\n\u001b[0;32m     89\u001b[0m \u001b[39m# Read matrix dimensions given, if any\u001b[39;00m\n\u001b[0;32m     90\u001b[0m \u001b[39mif\u001b[39;00m shape \u001b[39mis\u001b[39;00m \u001b[39mnot\u001b[39;00m \u001b[39mNone\u001b[39;00m:\n",
      "File \u001b[1;32m~\\AppData\\Local\\Packages\\PythonSoftwareFoundation.Python.3.12_qbz5n2kfra8p0\\LocalCache\\local-packages\\Python312\\site-packages\\scipy\\sparse\\_compressed.py:34\u001b[0m, in \u001b[0;36m_cs_matrix.__init__\u001b[1;34m(self, arg1, shape, dtype, copy)\u001b[0m\n\u001b[0;32m     32\u001b[0m         arg1 \u001b[39m=\u001b[39m arg1\u001b[39m.\u001b[39mcopy()\n\u001b[0;32m     33\u001b[0m     \u001b[39melse\u001b[39;00m:\n\u001b[1;32m---> 34\u001b[0m         arg1 \u001b[39m=\u001b[39m arg1\u001b[39m.\u001b[39;49masformat(\u001b[39mself\u001b[39;49m\u001b[39m.\u001b[39;49mformat)\n\u001b[0;32m     35\u001b[0m     \u001b[39mself\u001b[39m\u001b[39m.\u001b[39m_set_self(arg1)\n\u001b[0;32m     37\u001b[0m \u001b[39melif\u001b[39;00m \u001b[39misinstance\u001b[39m(arg1, \u001b[39mtuple\u001b[39m):\n",
      "File \u001b[1;32m~\\AppData\\Local\\Packages\\PythonSoftwareFoundation.Python.3.12_qbz5n2kfra8p0\\LocalCache\\local-packages\\Python312\\site-packages\\scipy\\sparse\\_base.py:428\u001b[0m, in \u001b[0;36m_spbase.asformat\u001b[1;34m(self, format, copy)\u001b[0m\n\u001b[0;32m    426\u001b[0m     \u001b[39mreturn\u001b[39;00m convert_method(copy\u001b[39m=\u001b[39mcopy)\n\u001b[0;32m    427\u001b[0m \u001b[39mexcept\u001b[39;00m \u001b[39mTypeError\u001b[39;00m:\n\u001b[1;32m--> 428\u001b[0m     \u001b[39mreturn\u001b[39;00m convert_method()\n",
      "File \u001b[1;32m~\\AppData\\Local\\Packages\\PythonSoftwareFoundation.Python.3.12_qbz5n2kfra8p0\\LocalCache\\local-packages\\Python312\\site-packages\\scipy\\sparse\\_coo.py:310\u001b[0m, in \u001b[0;36m_coo_base.tocsr\u001b[1;34m(self, copy)\u001b[0m\n\u001b[0;32m    308\u001b[0m indptr \u001b[39m=\u001b[39m np\u001b[39m.\u001b[39mempty(M \u001b[39m+\u001b[39m \u001b[39m1\u001b[39m, dtype\u001b[39m=\u001b[39midx_dtype)\n\u001b[0;32m    309\u001b[0m indices \u001b[39m=\u001b[39m np\u001b[39m.\u001b[39mempty_like(col, dtype\u001b[39m=\u001b[39midx_dtype)\n\u001b[1;32m--> 310\u001b[0m data \u001b[39m=\u001b[39m np\u001b[39m.\u001b[39mempty_like(\u001b[39mself\u001b[39m\u001b[39m.\u001b[39mdata, dtype\u001b[39m=\u001b[39mupcast(\u001b[39mself\u001b[39;49m\u001b[39m.\u001b[39;49mdtype))\n\u001b[0;32m    312\u001b[0m coo_tocsr(M, N, \u001b[39mself\u001b[39m\u001b[39m.\u001b[39mnnz, row, col, \u001b[39mself\u001b[39m\u001b[39m.\u001b[39mdata,\n\u001b[0;32m    313\u001b[0m           indptr, indices, data)\n\u001b[0;32m    315\u001b[0m x \u001b[39m=\u001b[39m \u001b[39mself\u001b[39m\u001b[39m.\u001b[39m_csr_container((data, indices, indptr), shape\u001b[39m=\u001b[39m\u001b[39mself\u001b[39m\u001b[39m.\u001b[39mshape)\n",
      "File \u001b[1;32m~\\AppData\\Local\\Packages\\PythonSoftwareFoundation.Python.3.12_qbz5n2kfra8p0\\LocalCache\\local-packages\\Python312\\site-packages\\scipy\\sparse\\_sputils.py:54\u001b[0m, in \u001b[0;36mupcast\u001b[1;34m(*args)\u001b[0m\n\u001b[0;32m     51\u001b[0m         _upcast_memo[\u001b[39mhash\u001b[39m(args)] \u001b[39m=\u001b[39m t\n\u001b[0;32m     52\u001b[0m         \u001b[39mreturn\u001b[39;00m t\n\u001b[1;32m---> 54\u001b[0m \u001b[39mraise\u001b[39;00m \u001b[39mTypeError\u001b[39;00m(\u001b[39mf\u001b[39m\u001b[39m'\u001b[39m\u001b[39mno supported conversion for types: \u001b[39m\u001b[39m{\u001b[39;00margs\u001b[39m!r}\u001b[39;00m\u001b[39m'\u001b[39m)\n",
      "\u001b[1;31mTypeError\u001b[0m: no supported conversion for types: (dtype('<U11'),)"
     ]
    }
   ],
   "source": [
    "from sklearn.ensemble import RandomForestClassifier\n",
    "from sklearn.datasets import make_multilabel_classification\n",
    "from scipy.sparse import csr_matrix\n",
    "from skmultilearn.problem_transform import BinaryRelevance\n",
    "\n",
    "classes = ['science', 'sports', 'mathematics']\n",
    "\n",
    "new_instance = [\n",
    "    ['geography', 'statistics', 'calculus', 'geography', 'statistics', 'calculus', 'geography', 'statistics', 'calculus', 'geography', 'statistics', 'calculus', 'geography', 'statistics', 'calculus', 'geography', 'statistics', 'calculus', 'geography', 'statistics'],  \n",
    "    ['sports', 'mathematics', 'statistics', 'sports', 'mathematics', 'statistics', 'sports', 'mathematics', 'statistics', 'sports', 'mathematics', 'statistics', 'sports', 'mathematics', 'statistics', 'sports', 'mathematics', 'statistics', 'sports', 'mathematics']   \n",
    "]\n",
    "\n",
    "binary_representation = []\n",
    "\n",
    "for instance in new_instance:\n",
    "    binary_vector = [1 if cls in instance else 0 for cls in classes]\n",
    "    binary_representation.append(binary_vector)\n",
    "new_instance_csr = csr_matrix(binary_representation)\n",
    "\n",
    "\n",
    "classifier = BinaryRelevance(classifier=RandomForestClassifier(), require_dense=[False, True])\n",
    "classifier.fit(new_instance, y)\n",
    "\n",
    "predictions = classifier.predict(new_instance_csr)\n",
    "\n",
    "print(predictions.toarray())\n"
   ]
  },
  {
   "cell_type": "code",
   "execution_count": 65,
   "id": "21e141e9",
   "metadata": {},
   "outputs": [
    {
     "name": "stdout",
     "output_type": "stream",
     "text": [
      "Shape of X: (1000, 20)\n",
      "Shape of y: (1000, 5)\n",
      "First 5 samples of X:\n",
      " [[2. 3. 1. 2. 3. 6. 4. 5. 1. 5. 3. 0. 2. 3. 3. 1. 5. 4. 1. 3.]\n",
      " [2. 4. 2. 0. 3. 1. 1. 2. 0. 0. 1. 3. 1. 7. 2. 2. 2. 7. 1. 0.]\n",
      " [0. 3. 1. 1. 2. 0. 0. 3. 1. 4. 0. 0. 2. 3. 4. 2. 5. 6. 4. 7.]\n",
      " [6. 3. 1. 4. 0. 4. 0. 1. 3. 7. 0. 2. 5. 3. 3. 2. 2. 2. 0. 2.]\n",
      " [2. 1. 2. 1. 0. 0. 4. 1. 3. 1. 1. 0. 1. 0. 1. 5. 5. 5. 1. 3.]]\n",
      "First 5 samples of y:\n",
      " [[1 1 0 1 0]\n",
      " [0 1 1 1 0]\n",
      " [0 1 0 0 0]\n",
      " [1 1 1 1 1]\n",
      " [1 1 1 1 1]]\n"
     ]
    }
   ],
   "source": [
    "from sklearn.datasets import make_multilabel_classification\n",
    "\n",
    "# Generate synthetic data with 1000 samples, 20 features, 5 classes, and 3 labels per instance\n",
    "X, y = make_multilabel_classification(n_samples=1000, n_features=20, n_classes=5, n_labels=3, random_state=42)\n",
    "\n",
    "# Print the shape of X and y\n",
    "print(\"Shape of X:\", X.shape)  # Should be (1000, 20)\n",
    "print(\"Shape of y:\", y.shape)  # Should be (1000, 5)\n",
    "\n",
    "# Display the first 5 rows of X and y\n",
    "print(\"First 5 samples of X:\\n\", X[:5])\n",
    "print(\"First 5 samples of y:\\n\", y[:5])\n"
   ]
  },
  {
   "cell_type": "code",
   "execution_count": 75,
   "id": "4a2db5bf",
   "metadata": {},
   "outputs": [
    {
     "name": "stdout",
     "output_type": "stream",
     "text": [
      "Predicted Labels:\n",
      "[[1 1 0 0 0]\n",
      " [0 0 1 1 1]]\n"
     ]
    }
   ],
   "source": [
    "from sklearn.naive_bayes import MultinomialNB\n",
    "from skmultilearn.problem_transform import BinaryRelevance\n",
    "from sklearn.feature_extraction.text import CountVectorizer\n",
    "from scipy.sparse import csr_matrix\n",
    "\n",
    "# Define the school subjects\n",
    "subjects = ['mathematics', 'science', 'history', 'geography', 'literature']\n",
    "\n",
    "# Define the new instances (sets of school subjects)\n",
    "new_instances = [\n",
    "    ['mathematics', 'science'],  \n",
    "    ['history', 'geography', 'literature']   \n",
    "]\n",
    "\n",
    "# Convert the sets of school subjects into text documents\n",
    "# This step is necessary for text-based classifiers like Multinomial Naive Bayes\n",
    "text_documents = [' '.join(instance) for instance in new_instances]\n",
    "\n",
    "# Initialize the CountVectorizer to convert text into a matrix of token counts\n",
    "vectorizer = CountVectorizer(vocabulary=subjects)\n",
    "# vectorizer\n",
    "\n",
    "# # Transform the text documents into a document-term matrix\n",
    "X_new = vectorizer.transform(text_documents)\n",
    "\n",
    "# Define the true labels (not necessary for prediction, just for demonstration)\n",
    "y_true = [\n",
    "    [1, 1, 0, 0, 0],  # 'mathematics' and 'science'\n",
    "    [0, 0, 1, 1, 1]   # 'history', 'geography', and 'literature'\n",
    "]\n",
    "\n",
    "# Convert the true labels into a CSR matrix\n",
    "y_true_csr = csr_matrix(y_true)\n",
    "\n",
    "# Initialize the Binary Relevance classifier with Multinomial Naive Bayes as the base classifier\n",
    "classifier = BinaryRelevance(classifier=MultinomialNB(), require_dense=[False, True])\n",
    "\n",
    "# Fit the classifier to the training data\n",
    "classifier.fit(X_new, y_true_csr)\n",
    "\n",
    "# Predict the labels for the new instances\n",
    "predictions = classifier.predict(X_new)\n",
    "\n",
    "# Print the predicted labels\n",
    "print(\"Predicted Labels:\")\n",
    "print(predictions.toarray())\n"
   ]
  },
  {
   "cell_type": "code",
   "execution_count": 77,
   "id": "e3ec6207",
   "metadata": {},
   "outputs": [
    {
     "name": "stdout",
     "output_type": "stream",
     "text": [
      "Predicted Labels for Testing Set:\n",
      "[[1 1 0 0 0]]\n"
     ]
    }
   ],
   "source": [
    "from sklearn.model_selection import train_test_split\n",
    "\n",
    "# Split the data into training and testing sets\n",
    "X_train, X_test, y_train, y_test = train_test_split(X_new, y_true_csr, test_size=0.2, random_state=42)\n",
    "\n",
    "# Initialize the Binary Relevance classifier with Multinomial Naive Bayes as the base classifier\n",
    "classifier = BinaryRelevance(classifier=MultinomialNB(), require_dense=[False, True])\n",
    "\n",
    "# Fit the classifier to the training data\n",
    "classifier.fit(X_train, y_train)\n",
    "\n",
    "# Predict the labels for the testing set\n",
    "predictions = classifier.predict(X_test)\n",
    "\n",
    "# Print the predicted labels for the testing set\n",
    "print(\"Predicted Labels for Testing Set:\")\n",
    "print(predictions.toarray())\n",
    "\n",
    "# Evaluate the performance of the model (e.g., accuracy, precision, recall, etc.)\n",
    "# You can use appropriate metrics to evaluate the model's performance on the testing set\n"
   ]
  },
  {
   "cell_type": "code",
   "execution_count": null,
   "id": "7cf5dd38",
   "metadata": {},
   "outputs": [],
   "source": []
  }
 ],
 "metadata": {
  "kernelspec": {
   "display_name": "Python 3 (ipykernel)",
   "language": "python",
   "name": "python3"
  },
  "language_info": {
   "codemirror_mode": {
    "name": "ipython",
    "version": 3
   },
   "file_extension": ".py",
   "mimetype": "text/x-python",
   "name": "python",
   "nbconvert_exporter": "python",
   "pygments_lexer": "ipython3",
   "version": "3.11.0"
  }
 },
 "nbformat": 4,
 "nbformat_minor": 5
}
